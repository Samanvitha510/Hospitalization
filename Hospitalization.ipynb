{
 "cells": [
  {
   "cell_type": "code",
   "execution_count": 1,
   "id": "2610bfc5",
   "metadata": {},
   "outputs": [],
   "source": [
    "import pandas as pd\n",
    "import numpy as np\n",
    "import matplotlib.pyplot as plt\n",
    "import seaborn as sns"
   ]
  },
  {
   "cell_type": "markdown",
   "id": "ae7ac6c3",
   "metadata": {},
   "source": [
    "Question 1 import the dataset"
   ]
  },
  {
   "cell_type": "code",
   "execution_count": 3,
   "id": "de141401",
   "metadata": {},
   "outputs": [
    {
     "data": {
      "text/html": [
       "<div>\n",
       "<style scoped>\n",
       "    .dataframe tbody tr th:only-of-type {\n",
       "        vertical-align: middle;\n",
       "    }\n",
       "\n",
       "    .dataframe tbody tr th {\n",
       "        vertical-align: top;\n",
       "    }\n",
       "\n",
       "    .dataframe thead th {\n",
       "        text-align: right;\n",
       "    }\n",
       "</style>\n",
       "<table border=\"1\" class=\"dataframe\">\n",
       "  <thead>\n",
       "    <tr style=\"text-align: right;\">\n",
       "      <th></th>\n",
       "      <th>State/UT</th>\n",
       "      <th>Private</th>\n",
       "      <th>Public</th>\n",
       "    </tr>\n",
       "  </thead>\n",
       "  <tbody>\n",
       "    <tr>\n",
       "      <th>0</th>\n",
       "      <td>Andaman and Nicobar Islands</td>\n",
       "      <td>1.0</td>\n",
       "      <td>21.0</td>\n",
       "    </tr>\n",
       "    <tr>\n",
       "      <th>1</th>\n",
       "      <td>Andhra Pradesh</td>\n",
       "      <td>97863.0</td>\n",
       "      <td>34385.0</td>\n",
       "    </tr>\n",
       "    <tr>\n",
       "      <th>2</th>\n",
       "      <td>Arunachal Pradesh</td>\n",
       "      <td>5.0</td>\n",
       "      <td>630.0</td>\n",
       "    </tr>\n",
       "    <tr>\n",
       "      <th>3</th>\n",
       "      <td>Assam</td>\n",
       "      <td>14350.0</td>\n",
       "      <td>33553.0</td>\n",
       "    </tr>\n",
       "    <tr>\n",
       "      <th>4</th>\n",
       "      <td>Bihar</td>\n",
       "      <td>11747.0</td>\n",
       "      <td>34814.0</td>\n",
       "    </tr>\n",
       "  </tbody>\n",
       "</table>\n",
       "</div>"
      ],
      "text/plain": [
       "                      State/UT  Private   Public\n",
       "0  Andaman and Nicobar Islands      1.0     21.0\n",
       "1               Andhra Pradesh  97863.0  34385.0\n",
       "2            Arunachal Pradesh      5.0    630.0\n",
       "3                        Assam  14350.0  33553.0\n",
       "4                        Bihar  11747.0  34814.0"
      ]
     },
     "execution_count": 3,
     "metadata": {},
     "output_type": "execute_result"
    }
   ],
   "source": [
    "hosp = pd.read_csv('hospitalisations.csv')\n",
    "hosp.head(5)"
   ]
  },
  {
   "cell_type": "markdown",
   "id": "cc7113fc",
   "metadata": {},
   "source": [
    "Question 2 how many rows and columns does the data set have ?"
   ]
  },
  {
   "cell_type": "code",
   "execution_count": 4,
   "id": "13599988",
   "metadata": {},
   "outputs": [
    {
     "name": "stdout",
     "output_type": "stream",
     "text": [
      "<class 'pandas.core.frame.DataFrame'>\n",
      "RangeIndex: 32 entries, 0 to 31\n",
      "Data columns (total 3 columns):\n",
      " #   Column    Non-Null Count  Dtype  \n",
      "---  ------    --------------  -----  \n",
      " 0   State/UT  32 non-null     object \n",
      " 1   Private   30 non-null     float64\n",
      " 2   Public    30 non-null     float64\n",
      "dtypes: float64(2), object(1)\n",
      "memory usage: 900.0+ bytes\n"
     ]
    }
   ],
   "source": [
    "hosp.info()"
   ]
  },
  {
   "cell_type": "markdown",
   "id": "426899e0",
   "metadata": {},
   "source": [
    "question 2 : Does the data set have missing values? If yes, how many?"
   ]
  },
  {
   "cell_type": "code",
   "execution_count": 5,
   "id": "e1feed7c",
   "metadata": {},
   "outputs": [
    {
     "data": {
      "text/plain": [
       "State/UT    0\n",
       "Private     2\n",
       "Public      2\n",
       "dtype: int64"
      ]
     },
     "execution_count": 5,
     "metadata": {},
     "output_type": "execute_result"
    }
   ],
   "source": [
    "hosp.isnull().sum()"
   ]
  },
  {
   "cell_type": "markdown",
   "id": "cb336512",
   "metadata": {},
   "source": [
    "Question 4: Drop the NA values"
   ]
  },
  {
   "cell_type": "code",
   "execution_count": 6,
   "id": "cee52a6e",
   "metadata": {},
   "outputs": [],
   "source": [
    "hosp.dropna(inplace=True)"
   ]
  },
  {
   "cell_type": "code",
   "execution_count": 7,
   "id": "b87bd28b",
   "metadata": {},
   "outputs": [
    {
     "data": {
      "text/plain": [
       "State/UT    0\n",
       "Private     0\n",
       "Public      0\n",
       "dtype: int64"
      ]
     },
     "execution_count": 7,
     "metadata": {},
     "output_type": "execute_result"
    }
   ],
   "source": [
    "hosp.isna().sum()"
   ]
  },
  {
   "cell_type": "markdown",
   "id": "b3ea3f7c",
   "metadata": {},
   "source": [
    "Question 5: create a new column total which contains a sum of private and public hospitalisations . so the column total should be a summation of the two columns\n",
    "Public and private."
   ]
  },
  {
   "cell_type": "code",
   "execution_count": 9,
   "id": "9f332140",
   "metadata": {},
   "outputs": [
    {
     "data": {
      "text/html": [
       "<div>\n",
       "<style scoped>\n",
       "    .dataframe tbody tr th:only-of-type {\n",
       "        vertical-align: middle;\n",
       "    }\n",
       "\n",
       "    .dataframe tbody tr th {\n",
       "        vertical-align: top;\n",
       "    }\n",
       "\n",
       "    .dataframe thead th {\n",
       "        text-align: right;\n",
       "    }\n",
       "</style>\n",
       "<table border=\"1\" class=\"dataframe\">\n",
       "  <thead>\n",
       "    <tr style=\"text-align: right;\">\n",
       "      <th></th>\n",
       "      <th>State/UT</th>\n",
       "      <th>Private</th>\n",
       "      <th>Public</th>\n",
       "      <th>Total</th>\n",
       "    </tr>\n",
       "  </thead>\n",
       "  <tbody>\n",
       "    <tr>\n",
       "      <th>0</th>\n",
       "      <td>Andaman and Nicobar Islands</td>\n",
       "      <td>1.0</td>\n",
       "      <td>21.0</td>\n",
       "      <td>22.0</td>\n",
       "    </tr>\n",
       "    <tr>\n",
       "      <th>1</th>\n",
       "      <td>Andhra Pradesh</td>\n",
       "      <td>97863.0</td>\n",
       "      <td>34385.0</td>\n",
       "      <td>132248.0</td>\n",
       "    </tr>\n",
       "    <tr>\n",
       "      <th>2</th>\n",
       "      <td>Arunachal Pradesh</td>\n",
       "      <td>5.0</td>\n",
       "      <td>630.0</td>\n",
       "      <td>635.0</td>\n",
       "    </tr>\n",
       "    <tr>\n",
       "      <th>3</th>\n",
       "      <td>Assam</td>\n",
       "      <td>14350.0</td>\n",
       "      <td>33553.0</td>\n",
       "      <td>47903.0</td>\n",
       "    </tr>\n",
       "    <tr>\n",
       "      <th>4</th>\n",
       "      <td>Bihar</td>\n",
       "      <td>11747.0</td>\n",
       "      <td>34814.0</td>\n",
       "      <td>46561.0</td>\n",
       "    </tr>\n",
       "  </tbody>\n",
       "</table>\n",
       "</div>"
      ],
      "text/plain": [
       "                      State/UT  Private   Public     Total\n",
       "0  Andaman and Nicobar Islands      1.0     21.0      22.0\n",
       "1               Andhra Pradesh  97863.0  34385.0  132248.0\n",
       "2            Arunachal Pradesh      5.0    630.0     635.0\n",
       "3                        Assam  14350.0  33553.0   47903.0\n",
       "4                        Bihar  11747.0  34814.0   46561.0"
      ]
     },
     "execution_count": 9,
     "metadata": {},
     "output_type": "execute_result"
    }
   ],
   "source": [
    "hosp['Total'] = hosp['Public'] + hosp['Private']\n",
    "\n",
    "hosp.head(5)"
   ]
  },
  {
   "cell_type": "markdown",
   "id": "749fbe04",
   "metadata": {},
   "source": [
    "Question 6: which state or UT is the unhealthiest?(i.e. maximum number of hospitalisation)\n",
    "Hint: Do not include Grand total"
   ]
  },
  {
   "cell_type": "code",
   "execution_count": 10,
   "id": "7336496d",
   "metadata": {},
   "outputs": [
    {
     "data": {
      "text/html": [
       "<div>\n",
       "<style scoped>\n",
       "    .dataframe tbody tr th:only-of-type {\n",
       "        vertical-align: middle;\n",
       "    }\n",
       "\n",
       "    .dataframe tbody tr th {\n",
       "        vertical-align: top;\n",
       "    }\n",
       "\n",
       "    .dataframe thead th {\n",
       "        text-align: right;\n",
       "    }\n",
       "</style>\n",
       "<table border=\"1\" class=\"dataframe\">\n",
       "  <thead>\n",
       "    <tr style=\"text-align: right;\">\n",
       "      <th></th>\n",
       "      <th>State/UT</th>\n",
       "      <th>Private</th>\n",
       "      <th>Public</th>\n",
       "      <th>Total</th>\n",
       "    </tr>\n",
       "  </thead>\n",
       "  <tbody>\n",
       "    <tr>\n",
       "      <th>31</th>\n",
       "      <td>Grand Total</td>\n",
       "      <td>1697117.0</td>\n",
       "      <td>1238196.0</td>\n",
       "      <td>2935313.0</td>\n",
       "    </tr>\n",
       "    <tr>\n",
       "      <th>6</th>\n",
       "      <td>Chhattisgarh</td>\n",
       "      <td>411814.0</td>\n",
       "      <td>142123.0</td>\n",
       "      <td>553937.0</td>\n",
       "    </tr>\n",
       "    <tr>\n",
       "      <th>16</th>\n",
       "      <td>Kerala</td>\n",
       "      <td>131557.0</td>\n",
       "      <td>391079.0</td>\n",
       "      <td>522636.0</td>\n",
       "    </tr>\n",
       "    <tr>\n",
       "      <th>10</th>\n",
       "      <td>Gujarat</td>\n",
       "      <td>379379.0</td>\n",
       "      <td>94845.0</td>\n",
       "      <td>474224.0</td>\n",
       "    </tr>\n",
       "    <tr>\n",
       "      <th>26</th>\n",
       "      <td>Tamil Nadu</td>\n",
       "      <td>120473.0</td>\n",
       "      <td>116701.0</td>\n",
       "      <td>237174.0</td>\n",
       "    </tr>\n",
       "  </tbody>\n",
       "</table>\n",
       "</div>"
      ],
      "text/plain": [
       "        State/UT    Private     Public      Total\n",
       "31   Grand Total  1697117.0  1238196.0  2935313.0\n",
       "6   Chhattisgarh   411814.0   142123.0   553937.0\n",
       "16        Kerala   131557.0   391079.0   522636.0\n",
       "10       Gujarat   379379.0    94845.0   474224.0\n",
       "26    Tamil Nadu   120473.0   116701.0   237174.0"
      ]
     },
     "execution_count": 10,
     "metadata": {},
     "output_type": "execute_result"
    }
   ],
   "source": [
    "hosp.sort_values(by='Total', ascending=False).head(5)"
   ]
  },
  {
   "cell_type": "markdown",
   "id": "afd81ba2",
   "metadata": {},
   "source": [
    "Question 7: Chattisagarh accounts for roughly 18% share in the total hopistalisations in india(assuming these are the only states/UTs in india). True or False?"
   ]
  },
  {
   "cell_type": "code",
   "execution_count": 11,
   "id": "1d64cc27",
   "metadata": {},
   "outputs": [
    {
     "data": {
      "text/html": [
       "<div>\n",
       "<style scoped>\n",
       "    .dataframe tbody tr th:only-of-type {\n",
       "        vertical-align: middle;\n",
       "    }\n",
       "\n",
       "    .dataframe tbody tr th {\n",
       "        vertical-align: top;\n",
       "    }\n",
       "\n",
       "    .dataframe thead th {\n",
       "        text-align: right;\n",
       "    }\n",
       "</style>\n",
       "<table border=\"1\" class=\"dataframe\">\n",
       "  <thead>\n",
       "    <tr style=\"text-align: right;\">\n",
       "      <th></th>\n",
       "      <th>State/UT</th>\n",
       "      <th>Private</th>\n",
       "      <th>Public</th>\n",
       "      <th>Total</th>\n",
       "    </tr>\n",
       "  </thead>\n",
       "  <tbody>\n",
       "    <tr>\n",
       "      <th>6</th>\n",
       "      <td>Chhattisgarh</td>\n",
       "      <td>411814.0</td>\n",
       "      <td>142123.0</td>\n",
       "      <td>553937.0</td>\n",
       "    </tr>\n",
       "  </tbody>\n",
       "</table>\n",
       "</div>"
      ],
      "text/plain": [
       "       State/UT   Private    Public     Total\n",
       "6  Chhattisgarh  411814.0  142123.0  553937.0"
      ]
     },
     "execution_count": 11,
     "metadata": {},
     "output_type": "execute_result"
    }
   ],
   "source": [
    "hosp[hosp['State/UT'] == 'Chhattisgarh']"
   ]
  },
  {
   "cell_type": "code",
   "execution_count": 12,
   "id": "1e39d207",
   "metadata": {},
   "outputs": [
    {
     "data": {
      "text/html": [
       "<div>\n",
       "<style scoped>\n",
       "    .dataframe tbody tr th:only-of-type {\n",
       "        vertical-align: middle;\n",
       "    }\n",
       "\n",
       "    .dataframe tbody tr th {\n",
       "        vertical-align: top;\n",
       "    }\n",
       "\n",
       "    .dataframe thead th {\n",
       "        text-align: right;\n",
       "    }\n",
       "</style>\n",
       "<table border=\"1\" class=\"dataframe\">\n",
       "  <thead>\n",
       "    <tr style=\"text-align: right;\">\n",
       "      <th></th>\n",
       "      <th>State/UT</th>\n",
       "      <th>Private</th>\n",
       "      <th>Public</th>\n",
       "      <th>Total</th>\n",
       "    </tr>\n",
       "  </thead>\n",
       "  <tbody>\n",
       "    <tr>\n",
       "      <th>31</th>\n",
       "      <td>Grand Total</td>\n",
       "      <td>1697117.0</td>\n",
       "      <td>1238196.0</td>\n",
       "      <td>2935313.0</td>\n",
       "    </tr>\n",
       "  </tbody>\n",
       "</table>\n",
       "</div>"
      ],
      "text/plain": [
       "       State/UT    Private     Public      Total\n",
       "31  Grand Total  1697117.0  1238196.0  2935313.0"
      ]
     },
     "execution_count": 12,
     "metadata": {},
     "output_type": "execute_result"
    }
   ],
   "source": [
    "hosp[hosp['State/UT'] == 'Grand Total']"
   ]
  },
  {
   "cell_type": "code",
   "execution_count": 13,
   "id": "488467f1",
   "metadata": {},
   "outputs": [
    {
     "data": {
      "text/plain": [
       "18.87147980470907"
      ]
     },
     "execution_count": 13,
     "metadata": {},
     "output_type": "execute_result"
    }
   ],
   "source": [
    "553937.0/2935313.0*100"
   ]
  },
  {
   "cell_type": "markdown",
   "id": "3b071061",
   "metadata": {},
   "source": [
    "Question 8: In Dadra and Nagar Haveli, which type of hospitals do people prefer?"
   ]
  },
  {
   "cell_type": "code",
   "execution_count": 14,
   "id": "7d02b31a",
   "metadata": {},
   "outputs": [
    {
     "data": {
      "text/html": [
       "<div>\n",
       "<style scoped>\n",
       "    .dataframe tbody tr th:only-of-type {\n",
       "        vertical-align: middle;\n",
       "    }\n",
       "\n",
       "    .dataframe tbody tr th {\n",
       "        vertical-align: top;\n",
       "    }\n",
       "\n",
       "    .dataframe thead th {\n",
       "        text-align: right;\n",
       "    }\n",
       "</style>\n",
       "<table border=\"1\" class=\"dataframe\">\n",
       "  <thead>\n",
       "    <tr style=\"text-align: right;\">\n",
       "      <th></th>\n",
       "      <th>State/UT</th>\n",
       "      <th>Private</th>\n",
       "      <th>Public</th>\n",
       "      <th>Total</th>\n",
       "    </tr>\n",
       "  </thead>\n",
       "  <tbody>\n",
       "    <tr>\n",
       "      <th>7</th>\n",
       "      <td>Dadra and Nagar Haveli</td>\n",
       "      <td>782.0</td>\n",
       "      <td>10940.0</td>\n",
       "      <td>11722.0</td>\n",
       "    </tr>\n",
       "  </tbody>\n",
       "</table>\n",
       "</div>"
      ],
      "text/plain": [
       "                 State/UT  Private   Public    Total\n",
       "7  Dadra and Nagar Haveli    782.0  10940.0  11722.0"
      ]
     },
     "execution_count": 14,
     "metadata": {},
     "output_type": "execute_result"
    }
   ],
   "source": [
    "hosp[hosp['State/UT'] == 'Dadra and Nagar Haveli']"
   ]
  },
  {
   "cell_type": "markdown",
   "id": "e636883c",
   "metadata": {},
   "source": [
    "Question 9: Plot the total hospitalisations in a plot of your choice and comment on the healthiest state/UT.(Assuming that the only parameter for healthiest is the number of hospitalisations only)"
   ]
  },
  {
   "cell_type": "code",
   "execution_count": 15,
   "id": "1ae86960",
   "metadata": {},
   "outputs": [
    {
     "name": "stderr",
     "output_type": "stream",
     "text": [
      "C:\\Users\\muthy\\anaconda3\\Lib\\site-packages\\seaborn\\axisgrid.py:118: UserWarning: The figure layout has changed to tight\n",
      "  self._figure.tight_layout(*args, **kwargs)\n"
     ]
    },
    {
     "data": {
      "text/plain": [
       "<seaborn.axisgrid.FacetGrid at 0x1db5106a0d0>"
      ]
     },
     "execution_count": 15,
     "metadata": {},
     "output_type": "execute_result"
    },
    {
     "data": {
      "image/png": "[encoded data removed]",
      "text/plain": [
       "<Figure size 500x500 with 1 Axes>"
      ]
     },
     "metadata": {},
     "output_type": "display_data"
    }
   ],
   "source": [
    "sns.catplot(x=\"Total\", y=\"State/UT\", kind=\"bar\", data=hosp.sort_values(by='Total',ascending=True),height=5)"
   ]
  },
  {
   "cell_type": "code",
   "execution_count": 16,
   "id": "82a706e2",
   "metadata": {},
   "outputs": [
    {
     "data": {
      "text/html": [
       "<div>\n",
       "<style scoped>\n",
       "    .dataframe tbody tr th:only-of-type {\n",
       "        vertical-align: middle;\n",
       "    }\n",
       "\n",
       "    .dataframe tbody tr th {\n",
       "        vertical-align: top;\n",
       "    }\n",
       "\n",
       "    .dataframe thead th {\n",
       "        text-align: right;\n",
       "    }\n",
       "</style>\n",
       "<table border=\"1\" class=\"dataframe\">\n",
       "  <thead>\n",
       "    <tr style=\"text-align: right;\">\n",
       "      <th></th>\n",
       "      <th>State/UT</th>\n",
       "      <th>Private</th>\n",
       "      <th>Public</th>\n",
       "      <th>Total</th>\n",
       "    </tr>\n",
       "  </thead>\n",
       "  <tbody>\n",
       "    <tr>\n",
       "      <th>0</th>\n",
       "      <td>Andaman and Nicobar Islands</td>\n",
       "      <td>1.0</td>\n",
       "      <td>21.0</td>\n",
       "      <td>22.0</td>\n",
       "    </tr>\n",
       "    <tr>\n",
       "      <th>1</th>\n",
       "      <td>Andhra Pradesh</td>\n",
       "      <td>97863.0</td>\n",
       "      <td>34385.0</td>\n",
       "      <td>132248.0</td>\n",
       "    </tr>\n",
       "    <tr>\n",
       "      <th>2</th>\n",
       "      <td>Arunachal Pradesh</td>\n",
       "      <td>5.0</td>\n",
       "      <td>630.0</td>\n",
       "      <td>635.0</td>\n",
       "    </tr>\n",
       "    <tr>\n",
       "      <th>3</th>\n",
       "      <td>Assam</td>\n",
       "      <td>14350.0</td>\n",
       "      <td>33553.0</td>\n",
       "      <td>47903.0</td>\n",
       "    </tr>\n",
       "    <tr>\n",
       "      <th>4</th>\n",
       "      <td>Bihar</td>\n",
       "      <td>11747.0</td>\n",
       "      <td>34814.0</td>\n",
       "      <td>46561.0</td>\n",
       "    </tr>\n",
       "  </tbody>\n",
       "</table>\n",
       "</div>"
      ],
      "text/plain": [
       "                      State/UT  Private   Public     Total\n",
       "0  Andaman and Nicobar Islands      1.0     21.0      22.0\n",
       "1               Andhra Pradesh  97863.0  34385.0  132248.0\n",
       "2            Arunachal Pradesh      5.0    630.0     635.0\n",
       "3                        Assam  14350.0  33553.0   47903.0\n",
       "4                        Bihar  11747.0  34814.0   46561.0"
      ]
     },
     "execution_count": 16,
     "metadata": {},
     "output_type": "execute_result"
    }
   ],
   "source": [
    "hosp_copy = hosp.iloc[:-1,:]\n",
    "hosp_copy.head()"
   ]
  },
  {
   "cell_type": "code",
   "execution_count": 17,
   "id": "f3563339",
   "metadata": {},
   "outputs": [
    {
     "data": {
      "text/plain": [
       "Index(['Chhattisgarh', 'Kerala', 'Gujarat', 'Tamil Nadu', 'Karnataka',\n",
       "       'Jharkhand', 'Maharashtra', 'Andhra Pradesh', 'Uttar Pradesh',\n",
       "       'Madhya Pradesh', 'Uttarakhand', 'Assam', 'Bihar', 'Haryana',\n",
       "       'Himachal Pradesh', 'Jammu and Kashmir', 'West Bengal', 'Tripura',\n",
       "       'Meghalaya', 'Mizoram', 'Dadra and Nagar Haveli', 'Daman and Diu',\n",
       "       'Manipur', 'Goa', 'Nagaland', 'Chandigarh', 'Arunachal Pradesh',\n",
       "       'Sikkim', 'Andaman and Nicobar Islands'],\n",
       "      dtype='object', name='State/UT')"
      ]
     },
     "execution_count": 17,
     "metadata": {},
     "output_type": "execute_result"
    }
   ],
   "source": [
    "finding_healthy = hosp_copy.groupby('State/UT')['Total'].sum().sort_values(ascending=False)\n",
    "finding_healthy.index"
   ]
  },
  {
   "cell_type": "code",
   "execution_count": 18,
   "id": "8d908f92",
   "metadata": {},
   "outputs": [
    {
     "data": {
      "image/png": "[encoded data removed]",
      "text/plain": [
       "<Figure size 640x480 with 1 Axes>"
      ]
     },
     "metadata": {},
     "output_type": "display_data"
    }
   ],
   "source": [
    "plt.Figure(figsize=(10,10))\n",
    "sns.barplot(x=finding_healthy.values, y=finding_healthy.index, palette='viridis')\n",
    "plt.xscale('log')"
   ]
  },
  {
   "cell_type": "markdown",
   "id": "8159a49b",
   "metadata": {},
   "source": [
    "Question 10: Public hospitalisations are more on all indi level as compared to state/UT level. True or false?\n",
    "Hint:Calculate the percentage of public hospitalisation(public/total),then find out the average percentage of all states using the mean()function. Compare this average percentage(state)with the grand total (all india)percentage and comment."
   ]
  },
  {
   "cell_type": "code",
   "execution_count": 19,
   "id": "73c0f747",
   "metadata": {},
   "outputs": [
    {
     "data": {
      "text/html": [
       "<div>\n",
       "<style scoped>\n",
       "    .dataframe tbody tr th:only-of-type {\n",
       "        vertical-align: middle;\n",
       "    }\n",
       "\n",
       "    .dataframe tbody tr th {\n",
       "        vertical-align: top;\n",
       "    }\n",
       "\n",
       "    .dataframe thead th {\n",
       "        text-align: right;\n",
       "    }\n",
       "</style>\n",
       "<table border=\"1\" class=\"dataframe\">\n",
       "  <thead>\n",
       "    <tr style=\"text-align: right;\">\n",
       "      <th></th>\n",
       "      <th>State/UT</th>\n",
       "      <th>Private</th>\n",
       "      <th>Public</th>\n",
       "      <th>Total</th>\n",
       "      <th>Public_Percent</th>\n",
       "    </tr>\n",
       "  </thead>\n",
       "  <tbody>\n",
       "    <tr>\n",
       "      <th>0</th>\n",
       "      <td>Andaman and Nicobar Islands</td>\n",
       "      <td>1.0</td>\n",
       "      <td>21.0</td>\n",
       "      <td>22.0</td>\n",
       "      <td>95.454545</td>\n",
       "    </tr>\n",
       "    <tr>\n",
       "      <th>1</th>\n",
       "      <td>Andhra Pradesh</td>\n",
       "      <td>97863.0</td>\n",
       "      <td>34385.0</td>\n",
       "      <td>132248.0</td>\n",
       "      <td>26.000393</td>\n",
       "    </tr>\n",
       "    <tr>\n",
       "      <th>2</th>\n",
       "      <td>Arunachal Pradesh</td>\n",
       "      <td>5.0</td>\n",
       "      <td>630.0</td>\n",
       "      <td>635.0</td>\n",
       "      <td>99.212598</td>\n",
       "    </tr>\n",
       "    <tr>\n",
       "      <th>3</th>\n",
       "      <td>Assam</td>\n",
       "      <td>14350.0</td>\n",
       "      <td>33553.0</td>\n",
       "      <td>47903.0</td>\n",
       "      <td>70.043630</td>\n",
       "    </tr>\n",
       "    <tr>\n",
       "      <th>4</th>\n",
       "      <td>Bihar</td>\n",
       "      <td>11747.0</td>\n",
       "      <td>34814.0</td>\n",
       "      <td>46561.0</td>\n",
       "      <td>74.770731</td>\n",
       "    </tr>\n",
       "    <tr>\n",
       "      <th>5</th>\n",
       "      <td>Chandigarh</td>\n",
       "      <td>302.0</td>\n",
       "      <td>509.0</td>\n",
       "      <td>811.0</td>\n",
       "      <td>62.762022</td>\n",
       "    </tr>\n",
       "    <tr>\n",
       "      <th>6</th>\n",
       "      <td>Chhattisgarh</td>\n",
       "      <td>411814.0</td>\n",
       "      <td>142123.0</td>\n",
       "      <td>553937.0</td>\n",
       "      <td>25.656889</td>\n",
       "    </tr>\n",
       "    <tr>\n",
       "      <th>7</th>\n",
       "      <td>Dadra and Nagar Haveli</td>\n",
       "      <td>782.0</td>\n",
       "      <td>10940.0</td>\n",
       "      <td>11722.0</td>\n",
       "      <td>93.328783</td>\n",
       "    </tr>\n",
       "    <tr>\n",
       "      <th>8</th>\n",
       "      <td>Daman and Diu</td>\n",
       "      <td>984.0</td>\n",
       "      <td>3343.0</td>\n",
       "      <td>4327.0</td>\n",
       "      <td>77.259071</td>\n",
       "    </tr>\n",
       "    <tr>\n",
       "      <th>9</th>\n",
       "      <td>Goa</td>\n",
       "      <td>1033.0</td>\n",
       "      <td>382.0</td>\n",
       "      <td>1415.0</td>\n",
       "      <td>26.996466</td>\n",
       "    </tr>\n",
       "    <tr>\n",
       "      <th>10</th>\n",
       "      <td>Gujarat</td>\n",
       "      <td>379379.0</td>\n",
       "      <td>94845.0</td>\n",
       "      <td>474224.0</td>\n",
       "      <td>20.000042</td>\n",
       "    </tr>\n",
       "    <tr>\n",
       "      <th>11</th>\n",
       "      <td>Haryana</td>\n",
       "      <td>16341.0</td>\n",
       "      <td>10223.0</td>\n",
       "      <td>26564.0</td>\n",
       "      <td>38.484415</td>\n",
       "    </tr>\n",
       "    <tr>\n",
       "      <th>12</th>\n",
       "      <td>Himachal Pradesh</td>\n",
       "      <td>2160.0</td>\n",
       "      <td>16461.0</td>\n",
       "      <td>18621.0</td>\n",
       "      <td>88.400193</td>\n",
       "    </tr>\n",
       "    <tr>\n",
       "      <th>13</th>\n",
       "      <td>Jammu and Kashmir</td>\n",
       "      <td>9707.0</td>\n",
       "      <td>8720.0</td>\n",
       "      <td>18427.0</td>\n",
       "      <td>47.321865</td>\n",
       "    </tr>\n",
       "    <tr>\n",
       "      <th>14</th>\n",
       "      <td>Jharkhand</td>\n",
       "      <td>156760.0</td>\n",
       "      <td>24114.0</td>\n",
       "      <td>180874.0</td>\n",
       "      <td>13.331933</td>\n",
       "    </tr>\n",
       "    <tr>\n",
       "      <th>15</th>\n",
       "      <td>Karnataka</td>\n",
       "      <td>65502.0</td>\n",
       "      <td>128640.0</td>\n",
       "      <td>194142.0</td>\n",
       "      <td>66.260778</td>\n",
       "    </tr>\n",
       "    <tr>\n",
       "      <th>16</th>\n",
       "      <td>Kerala</td>\n",
       "      <td>131557.0</td>\n",
       "      <td>391079.0</td>\n",
       "      <td>522636.0</td>\n",
       "      <td>74.828179</td>\n",
       "    </tr>\n",
       "    <tr>\n",
       "      <th>18</th>\n",
       "      <td>Madhya Pradesh</td>\n",
       "      <td>29314.0</td>\n",
       "      <td>63818.0</td>\n",
       "      <td>93132.0</td>\n",
       "      <td>68.524245</td>\n",
       "    </tr>\n",
       "    <tr>\n",
       "      <th>19</th>\n",
       "      <td>Maharashtra</td>\n",
       "      <td>107977.0</td>\n",
       "      <td>31179.0</td>\n",
       "      <td>139156.0</td>\n",
       "      <td>22.405789</td>\n",
       "    </tr>\n",
       "    <tr>\n",
       "      <th>20</th>\n",
       "      <td>Manipur</td>\n",
       "      <td>725.0</td>\n",
       "      <td>2412.0</td>\n",
       "      <td>3137.0</td>\n",
       "      <td>76.888747</td>\n",
       "    </tr>\n",
       "    <tr>\n",
       "      <th>21</th>\n",
       "      <td>Meghalaya</td>\n",
       "      <td>4836.0</td>\n",
       "      <td>9016.0</td>\n",
       "      <td>13852.0</td>\n",
       "      <td>65.088074</td>\n",
       "    </tr>\n",
       "    <tr>\n",
       "      <th>22</th>\n",
       "      <td>Mizoram</td>\n",
       "      <td>441.0</td>\n",
       "      <td>12588.0</td>\n",
       "      <td>13029.0</td>\n",
       "      <td>96.615243</td>\n",
       "    </tr>\n",
       "    <tr>\n",
       "      <th>23</th>\n",
       "      <td>Nagaland</td>\n",
       "      <td>325.0</td>\n",
       "      <td>532.0</td>\n",
       "      <td>857.0</td>\n",
       "      <td>62.077013</td>\n",
       "    </tr>\n",
       "    <tr>\n",
       "      <th>25</th>\n",
       "      <td>Sikkim</td>\n",
       "      <td>21.0</td>\n",
       "      <td>91.0</td>\n",
       "      <td>112.0</td>\n",
       "      <td>81.250000</td>\n",
       "    </tr>\n",
       "    <tr>\n",
       "      <th>26</th>\n",
       "      <td>Tamil Nadu</td>\n",
       "      <td>120473.0</td>\n",
       "      <td>116701.0</td>\n",
       "      <td>237174.0</td>\n",
       "      <td>49.204803</td>\n",
       "    </tr>\n",
       "    <tr>\n",
       "      <th>27</th>\n",
       "      <td>Tripura</td>\n",
       "      <td>90.0</td>\n",
       "      <td>16702.0</td>\n",
       "      <td>16792.0</td>\n",
       "      <td>99.464030</td>\n",
       "    </tr>\n",
       "    <tr>\n",
       "      <th>28</th>\n",
       "      <td>Uttar Pradesh</td>\n",
       "      <td>89987.0</td>\n",
       "      <td>26800.0</td>\n",
       "      <td>116787.0</td>\n",
       "      <td>22.947760</td>\n",
       "    </tr>\n",
       "    <tr>\n",
       "      <th>29</th>\n",
       "      <td>Uttarakhand</td>\n",
       "      <td>30472.0</td>\n",
       "      <td>18108.0</td>\n",
       "      <td>48580.0</td>\n",
       "      <td>37.274599</td>\n",
       "    </tr>\n",
       "    <tr>\n",
       "      <th>30</th>\n",
       "      <td>West Bengal</td>\n",
       "      <td>12169.0</td>\n",
       "      <td>5467.0</td>\n",
       "      <td>17636.0</td>\n",
       "      <td>30.999093</td>\n",
       "    </tr>\n",
       "    <tr>\n",
       "      <th>31</th>\n",
       "      <td>Grand Total</td>\n",
       "      <td>1697117.0</td>\n",
       "      <td>1238196.0</td>\n",
       "      <td>2935313.0</td>\n",
       "      <td>42.182759</td>\n",
       "    </tr>\n",
       "  </tbody>\n",
       "</table>\n",
       "</div>"
      ],
      "text/plain": [
       "                       State/UT    Private     Public      Total  \\\n",
       "0   Andaman and Nicobar Islands        1.0       21.0       22.0   \n",
       "1                Andhra Pradesh    97863.0    34385.0   132248.0   \n",
       "2             Arunachal Pradesh        5.0      630.0      635.0   \n",
       "3                         Assam    14350.0    33553.0    47903.0   \n",
       "4                         Bihar    11747.0    34814.0    46561.0   \n",
       "5                    Chandigarh      302.0      509.0      811.0   \n",
       "6                  Chhattisgarh   411814.0   142123.0   553937.0   \n",
       "7        Dadra and Nagar Haveli      782.0    10940.0    11722.0   \n",
       "8                 Daman and Diu      984.0     3343.0     4327.0   \n",
       "9                           Goa     1033.0      382.0     1415.0   \n",
       "10                      Gujarat   379379.0    94845.0   474224.0   \n",
       "11                      Haryana    16341.0    10223.0    26564.0   \n",
       "12             Himachal Pradesh     2160.0    16461.0    18621.0   \n",
       "13            Jammu and Kashmir     9707.0     8720.0    18427.0   \n",
       "14                    Jharkhand   156760.0    24114.0   180874.0   \n",
       "15                    Karnataka    65502.0   128640.0   194142.0   \n",
       "16                       Kerala   131557.0   391079.0   522636.0   \n",
       "18               Madhya Pradesh    29314.0    63818.0    93132.0   \n",
       "19                  Maharashtra   107977.0    31179.0   139156.0   \n",
       "20                      Manipur      725.0     2412.0     3137.0   \n",
       "21                    Meghalaya     4836.0     9016.0    13852.0   \n",
       "22                      Mizoram      441.0    12588.0    13029.0   \n",
       "23                     Nagaland      325.0      532.0      857.0   \n",
       "25                       Sikkim       21.0       91.0      112.0   \n",
       "26                   Tamil Nadu   120473.0   116701.0   237174.0   \n",
       "27                      Tripura       90.0    16702.0    16792.0   \n",
       "28                Uttar Pradesh    89987.0    26800.0   116787.0   \n",
       "29                  Uttarakhand    30472.0    18108.0    48580.0   \n",
       "30                  West Bengal    12169.0     5467.0    17636.0   \n",
       "31                  Grand Total  1697117.0  1238196.0  2935313.0   \n",
       "\n",
       "    Public_Percent  \n",
       "0        95.454545  \n",
       "1        26.000393  \n",
       "2        99.212598  \n",
       "3        70.043630  \n",
       "4        74.770731  \n",
       "5        62.762022  \n",
       "6        25.656889  \n",
       "7        93.328783  \n",
       "8        77.259071  \n",
       "9        26.996466  \n",
       "10       20.000042  \n",
       "11       38.484415  \n",
       "12       88.400193  \n",
       "13       47.321865  \n",
       "14       13.331933  \n",
       "15       66.260778  \n",
       "16       74.828179  \n",
       "18       68.524245  \n",
       "19       22.405789  \n",
       "20       76.888747  \n",
       "21       65.088074  \n",
       "22       96.615243  \n",
       "23       62.077013  \n",
       "25       81.250000  \n",
       "26       49.204803  \n",
       "27       99.464030  \n",
       "28       22.947760  \n",
       "29       37.274599  \n",
       "30       30.999093  \n",
       "31       42.182759  "
      ]
     },
     "execution_count": 19,
     "metadata": {},
     "output_type": "execute_result"
    }
   ],
   "source": [
    "hosp['Public_Percent'] = hosp['Public']/hosp['Total']*100\n",
    "hosp"
   ]
  },
  {
   "cell_type": "code",
   "execution_count": 21,
   "id": "0d54b08f",
   "metadata": {},
   "outputs": [
    {
     "name": "stderr",
     "output_type": "stream",
     "text": [
      "C:\\Users\\muthy\\AppData\\Local\\Temp\\ipykernel_18540\\667091967.py:1: SettingWithCopyWarning: \n",
      "A value is trying to be set on a copy of a slice from a DataFrame.\n",
      "Try using .loc[row_indexer,col_indexer] = value instead\n",
      "\n",
      "See the caveats in the documentation: https://pandas.pydata.org/pandas-docs/stable/user_guide/indexing.html#returning-a-view-versus-a-copy\n",
      "  hosp_copy['Public_Percent'] = hosp_copy['Public']/hosp_copy['Total']*100\n"
     ]
    },
    {
     "data": {
      "text/html": [
       "<div>\n",
       "<style scoped>\n",
       "    .dataframe tbody tr th:only-of-type {\n",
       "        vertical-align: middle;\n",
       "    }\n",
       "\n",
       "    .dataframe tbody tr th {\n",
       "        vertical-align: top;\n",
       "    }\n",
       "\n",
       "    .dataframe thead th {\n",
       "        text-align: right;\n",
       "    }\n",
       "</style>\n",
       "<table border=\"1\" class=\"dataframe\">\n",
       "  <thead>\n",
       "    <tr style=\"text-align: right;\">\n",
       "      <th></th>\n",
       "      <th>State/UT</th>\n",
       "      <th>Private</th>\n",
       "      <th>Public</th>\n",
       "      <th>Total</th>\n",
       "      <th>Public_Percent</th>\n",
       "    </tr>\n",
       "  </thead>\n",
       "  <tbody>\n",
       "    <tr>\n",
       "      <th>0</th>\n",
       "      <td>Andaman and Nicobar Islands</td>\n",
       "      <td>1.0</td>\n",
       "      <td>21.0</td>\n",
       "      <td>22.0</td>\n",
       "      <td>95.454545</td>\n",
       "    </tr>\n",
       "    <tr>\n",
       "      <th>1</th>\n",
       "      <td>Andhra Pradesh</td>\n",
       "      <td>97863.0</td>\n",
       "      <td>34385.0</td>\n",
       "      <td>132248.0</td>\n",
       "      <td>26.000393</td>\n",
       "    </tr>\n",
       "    <tr>\n",
       "      <th>2</th>\n",
       "      <td>Arunachal Pradesh</td>\n",
       "      <td>5.0</td>\n",
       "      <td>630.0</td>\n",
       "      <td>635.0</td>\n",
       "      <td>99.212598</td>\n",
       "    </tr>\n",
       "    <tr>\n",
       "      <th>3</th>\n",
       "      <td>Assam</td>\n",
       "      <td>14350.0</td>\n",
       "      <td>33553.0</td>\n",
       "      <td>47903.0</td>\n",
       "      <td>70.043630</td>\n",
       "    </tr>\n",
       "    <tr>\n",
       "      <th>4</th>\n",
       "      <td>Bihar</td>\n",
       "      <td>11747.0</td>\n",
       "      <td>34814.0</td>\n",
       "      <td>46561.0</td>\n",
       "      <td>74.770731</td>\n",
       "    </tr>\n",
       "    <tr>\n",
       "      <th>5</th>\n",
       "      <td>Chandigarh</td>\n",
       "      <td>302.0</td>\n",
       "      <td>509.0</td>\n",
       "      <td>811.0</td>\n",
       "      <td>62.762022</td>\n",
       "    </tr>\n",
       "    <tr>\n",
       "      <th>6</th>\n",
       "      <td>Chhattisgarh</td>\n",
       "      <td>411814.0</td>\n",
       "      <td>142123.0</td>\n",
       "      <td>553937.0</td>\n",
       "      <td>25.656889</td>\n",
       "    </tr>\n",
       "    <tr>\n",
       "      <th>7</th>\n",
       "      <td>Dadra and Nagar Haveli</td>\n",
       "      <td>782.0</td>\n",
       "      <td>10940.0</td>\n",
       "      <td>11722.0</td>\n",
       "      <td>93.328783</td>\n",
       "    </tr>\n",
       "    <tr>\n",
       "      <th>8</th>\n",
       "      <td>Daman and Diu</td>\n",
       "      <td>984.0</td>\n",
       "      <td>3343.0</td>\n",
       "      <td>4327.0</td>\n",
       "      <td>77.259071</td>\n",
       "    </tr>\n",
       "    <tr>\n",
       "      <th>9</th>\n",
       "      <td>Goa</td>\n",
       "      <td>1033.0</td>\n",
       "      <td>382.0</td>\n",
       "      <td>1415.0</td>\n",
       "      <td>26.996466</td>\n",
       "    </tr>\n",
       "    <tr>\n",
       "      <th>10</th>\n",
       "      <td>Gujarat</td>\n",
       "      <td>379379.0</td>\n",
       "      <td>94845.0</td>\n",
       "      <td>474224.0</td>\n",
       "      <td>20.000042</td>\n",
       "    </tr>\n",
       "    <tr>\n",
       "      <th>11</th>\n",
       "      <td>Haryana</td>\n",
       "      <td>16341.0</td>\n",
       "      <td>10223.0</td>\n",
       "      <td>26564.0</td>\n",
       "      <td>38.484415</td>\n",
       "    </tr>\n",
       "    <tr>\n",
       "      <th>12</th>\n",
       "      <td>Himachal Pradesh</td>\n",
       "      <td>2160.0</td>\n",
       "      <td>16461.0</td>\n",
       "      <td>18621.0</td>\n",
       "      <td>88.400193</td>\n",
       "    </tr>\n",
       "    <tr>\n",
       "      <th>13</th>\n",
       "      <td>Jammu and Kashmir</td>\n",
       "      <td>9707.0</td>\n",
       "      <td>8720.0</td>\n",
       "      <td>18427.0</td>\n",
       "      <td>47.321865</td>\n",
       "    </tr>\n",
       "    <tr>\n",
       "      <th>14</th>\n",
       "      <td>Jharkhand</td>\n",
       "      <td>156760.0</td>\n",
       "      <td>24114.0</td>\n",
       "      <td>180874.0</td>\n",
       "      <td>13.331933</td>\n",
       "    </tr>\n",
       "    <tr>\n",
       "      <th>15</th>\n",
       "      <td>Karnataka</td>\n",
       "      <td>65502.0</td>\n",
       "      <td>128640.0</td>\n",
       "      <td>194142.0</td>\n",
       "      <td>66.260778</td>\n",
       "    </tr>\n",
       "    <tr>\n",
       "      <th>16</th>\n",
       "      <td>Kerala</td>\n",
       "      <td>131557.0</td>\n",
       "      <td>391079.0</td>\n",
       "      <td>522636.0</td>\n",
       "      <td>74.828179</td>\n",
       "    </tr>\n",
       "    <tr>\n",
       "      <th>18</th>\n",
       "      <td>Madhya Pradesh</td>\n",
       "      <td>29314.0</td>\n",
       "      <td>63818.0</td>\n",
       "      <td>93132.0</td>\n",
       "      <td>68.524245</td>\n",
       "    </tr>\n",
       "    <tr>\n",
       "      <th>19</th>\n",
       "      <td>Maharashtra</td>\n",
       "      <td>107977.0</td>\n",
       "      <td>31179.0</td>\n",
       "      <td>139156.0</td>\n",
       "      <td>22.405789</td>\n",
       "    </tr>\n",
       "    <tr>\n",
       "      <th>20</th>\n",
       "      <td>Manipur</td>\n",
       "      <td>725.0</td>\n",
       "      <td>2412.0</td>\n",
       "      <td>3137.0</td>\n",
       "      <td>76.888747</td>\n",
       "    </tr>\n",
       "    <tr>\n",
       "      <th>21</th>\n",
       "      <td>Meghalaya</td>\n",
       "      <td>4836.0</td>\n",
       "      <td>9016.0</td>\n",
       "      <td>13852.0</td>\n",
       "      <td>65.088074</td>\n",
       "    </tr>\n",
       "    <tr>\n",
       "      <th>22</th>\n",
       "      <td>Mizoram</td>\n",
       "      <td>441.0</td>\n",
       "      <td>12588.0</td>\n",
       "      <td>13029.0</td>\n",
       "      <td>96.615243</td>\n",
       "    </tr>\n",
       "    <tr>\n",
       "      <th>23</th>\n",
       "      <td>Nagaland</td>\n",
       "      <td>325.0</td>\n",
       "      <td>532.0</td>\n",
       "      <td>857.0</td>\n",
       "      <td>62.077013</td>\n",
       "    </tr>\n",
       "    <tr>\n",
       "      <th>25</th>\n",
       "      <td>Sikkim</td>\n",
       "      <td>21.0</td>\n",
       "      <td>91.0</td>\n",
       "      <td>112.0</td>\n",
       "      <td>81.250000</td>\n",
       "    </tr>\n",
       "    <tr>\n",
       "      <th>26</th>\n",
       "      <td>Tamil Nadu</td>\n",
       "      <td>120473.0</td>\n",
       "      <td>116701.0</td>\n",
       "      <td>237174.0</td>\n",
       "      <td>49.204803</td>\n",
       "    </tr>\n",
       "    <tr>\n",
       "      <th>27</th>\n",
       "      <td>Tripura</td>\n",
       "      <td>90.0</td>\n",
       "      <td>16702.0</td>\n",
       "      <td>16792.0</td>\n",
       "      <td>99.464030</td>\n",
       "    </tr>\n",
       "    <tr>\n",
       "      <th>28</th>\n",
       "      <td>Uttar Pradesh</td>\n",
       "      <td>89987.0</td>\n",
       "      <td>26800.0</td>\n",
       "      <td>116787.0</td>\n",
       "      <td>22.947760</td>\n",
       "    </tr>\n",
       "    <tr>\n",
       "      <th>29</th>\n",
       "      <td>Uttarakhand</td>\n",
       "      <td>30472.0</td>\n",
       "      <td>18108.0</td>\n",
       "      <td>48580.0</td>\n",
       "      <td>37.274599</td>\n",
       "    </tr>\n",
       "    <tr>\n",
       "      <th>30</th>\n",
       "      <td>West Bengal</td>\n",
       "      <td>12169.0</td>\n",
       "      <td>5467.0</td>\n",
       "      <td>17636.0</td>\n",
       "      <td>30.999093</td>\n",
       "    </tr>\n",
       "  </tbody>\n",
       "</table>\n",
       "</div>"
      ],
      "text/plain": [
       "                       State/UT   Private    Public     Total  Public_Percent\n",
       "0   Andaman and Nicobar Islands       1.0      21.0      22.0       95.454545\n",
       "1                Andhra Pradesh   97863.0   34385.0  132248.0       26.000393\n",
       "2             Arunachal Pradesh       5.0     630.0     635.0       99.212598\n",
       "3                         Assam   14350.0   33553.0   47903.0       70.043630\n",
       "4                         Bihar   11747.0   34814.0   46561.0       74.770731\n",
       "5                    Chandigarh     302.0     509.0     811.0       62.762022\n",
       "6                  Chhattisgarh  411814.0  142123.0  553937.0       25.656889\n",
       "7        Dadra and Nagar Haveli     782.0   10940.0   11722.0       93.328783\n",
       "8                 Daman and Diu     984.0    3343.0    4327.0       77.259071\n",
       "9                           Goa    1033.0     382.0    1415.0       26.996466\n",
       "10                      Gujarat  379379.0   94845.0  474224.0       20.000042\n",
       "11                      Haryana   16341.0   10223.0   26564.0       38.484415\n",
       "12             Himachal Pradesh    2160.0   16461.0   18621.0       88.400193\n",
       "13            Jammu and Kashmir    9707.0    8720.0   18427.0       47.321865\n",
       "14                    Jharkhand  156760.0   24114.0  180874.0       13.331933\n",
       "15                    Karnataka   65502.0  128640.0  194142.0       66.260778\n",
       "16                       Kerala  131557.0  391079.0  522636.0       74.828179\n",
       "18               Madhya Pradesh   29314.0   63818.0   93132.0       68.524245\n",
       "19                  Maharashtra  107977.0   31179.0  139156.0       22.405789\n",
       "20                      Manipur     725.0    2412.0    3137.0       76.888747\n",
       "21                    Meghalaya    4836.0    9016.0   13852.0       65.088074\n",
       "22                      Mizoram     441.0   12588.0   13029.0       96.615243\n",
       "23                     Nagaland     325.0     532.0     857.0       62.077013\n",
       "25                       Sikkim      21.0      91.0     112.0       81.250000\n",
       "26                   Tamil Nadu  120473.0  116701.0  237174.0       49.204803\n",
       "27                      Tripura      90.0   16702.0   16792.0       99.464030\n",
       "28                Uttar Pradesh   89987.0   26800.0  116787.0       22.947760\n",
       "29                  Uttarakhand   30472.0   18108.0   48580.0       37.274599\n",
       "30                  West Bengal   12169.0    5467.0   17636.0       30.999093"
      ]
     },
     "execution_count": 21,
     "metadata": {},
     "output_type": "execute_result"
    }
   ],
   "source": [
    "hosp_copy['Public_Percent'] = hosp_copy['Public']/hosp_copy['Total']*100\n",
    "hosp_copy"
   ]
  },
  {
   "cell_type": "code",
   "execution_count": 22,
   "id": "20d068fd",
   "metadata": {},
   "outputs": [
    {
     "data": {
      "text/plain": [
       "59.06385966573871"
      ]
     },
     "execution_count": 22,
     "metadata": {},
     "output_type": "execute_result"
    }
   ],
   "source": [
    "hosp_copy['Public_Percent'].mean()"
   ]
  },
  {
   "cell_type": "markdown",
   "id": "5d7223df",
   "metadata": {},
   "source": [
    "Question 11: Which states/UTs have more than 50000 hospitalisations?"
   ]
  },
  {
   "cell_type": "code",
   "execution_count": 23,
   "id": "ee40f1e0",
   "metadata": {},
   "outputs": [
    {
     "data": {
      "text/plain": [
       "6       Chhattisgarh\n",
       "16            Kerala\n",
       "10           Gujarat\n",
       "26        Tamil Nadu\n",
       "15         Karnataka\n",
       "14         Jharkhand\n",
       "19       Maharashtra\n",
       "1     Andhra Pradesh\n",
       "28     Uttar Pradesh\n",
       "18    Madhya Pradesh\n",
       "Name: State/UT, dtype: object"
      ]
     },
     "execution_count": 23,
     "metadata": {},
     "output_type": "execute_result"
    }
   ],
   "source": [
    "hosp_copy[hosp_copy.Total>50000].sort_values(by='Total',ascending=False)['State/UT']"
   ]
  },
  {
   "cell_type": "markdown",
   "id": "19ba9430",
   "metadata": {},
   "source": [
    "Question 12: Which state reported exactly 1 case of private hospitalisation?"
   ]
  },
  {
   "cell_type": "code",
   "execution_count": 24,
   "id": "e6088bc6",
   "metadata": {},
   "outputs": [
    {
     "data": {
      "text/plain": [
       "0    Andaman and Nicobar Islands\n",
       "Name: State/UT, dtype: object"
      ]
     },
     "execution_count": 24,
     "metadata": {},
     "output_type": "execute_result"
    }
   ],
   "source": [
    "hosp_copy[hosp_copy['Private']==1]['State/UT']"
   ]
  },
  {
   "cell_type": "markdown",
   "id": "0024a063",
   "metadata": {},
   "source": [
    "Question 13: Which state/UT has maximum number of people admitted to public hospitals?"
   ]
  },
  {
   "cell_type": "code",
   "execution_count": 25,
   "id": "c31735c8",
   "metadata": {},
   "outputs": [
    {
     "data": {
      "text/plain": [
       "16    Kerala\n",
       "Name: State/UT, dtype: object"
      ]
     },
     "execution_count": 25,
     "metadata": {},
     "output_type": "execute_result"
    }
   ],
   "source": [
    "hosp_copy[hosp_copy['Public']==hosp_copy['Public'].max()]['State/UT']"
   ]
  },
  {
   "cell_type": "markdown",
   "id": "aa78598f",
   "metadata": {},
   "source": [
    "Question 14: Which state among Tripura and Gujarat Witnessed more hospitalisations?"
   ]
  },
  {
   "cell_type": "code",
   "execution_count": 26,
   "id": "a8f0e81c",
   "metadata": {},
   "outputs": [
    {
     "data": {
      "text/html": [
       "<div>\n",
       "<style scoped>\n",
       "    .dataframe tbody tr th:only-of-type {\n",
       "        vertical-align: middle;\n",
       "    }\n",
       "\n",
       "    .dataframe tbody tr th {\n",
       "        vertical-align: top;\n",
       "    }\n",
       "\n",
       "    .dataframe thead th {\n",
       "        text-align: right;\n",
       "    }\n",
       "</style>\n",
       "<table border=\"1\" class=\"dataframe\">\n",
       "  <thead>\n",
       "    <tr style=\"text-align: right;\">\n",
       "      <th></th>\n",
       "      <th>State/UT</th>\n",
       "      <th>Private</th>\n",
       "      <th>Public</th>\n",
       "      <th>Total</th>\n",
       "      <th>Public_Percent</th>\n",
       "    </tr>\n",
       "  </thead>\n",
       "  <tbody>\n",
       "    <tr>\n",
       "      <th>27</th>\n",
       "      <td>Tripura</td>\n",
       "      <td>90.0</td>\n",
       "      <td>16702.0</td>\n",
       "      <td>16792.0</td>\n",
       "      <td>99.46403</td>\n",
       "    </tr>\n",
       "  </tbody>\n",
       "</table>\n",
       "</div>"
      ],
      "text/plain": [
       "   State/UT  Private   Public    Total  Public_Percent\n",
       "27  Tripura     90.0  16702.0  16792.0        99.46403"
      ]
     },
     "execution_count": 26,
     "metadata": {},
     "output_type": "execute_result"
    }
   ],
   "source": [
    "hosp[hosp['State/UT']=='Tripura']"
   ]
  },
  {
   "cell_type": "code",
   "execution_count": 27,
   "id": "2bb33be4",
   "metadata": {},
   "outputs": [
    {
     "data": {
      "text/html": [
       "<div>\n",
       "<style scoped>\n",
       "    .dataframe tbody tr th:only-of-type {\n",
       "        vertical-align: middle;\n",
       "    }\n",
       "\n",
       "    .dataframe tbody tr th {\n",
       "        vertical-align: top;\n",
       "    }\n",
       "\n",
       "    .dataframe thead th {\n",
       "        text-align: right;\n",
       "    }\n",
       "</style>\n",
       "<table border=\"1\" class=\"dataframe\">\n",
       "  <thead>\n",
       "    <tr style=\"text-align: right;\">\n",
       "      <th></th>\n",
       "      <th>State/UT</th>\n",
       "      <th>Private</th>\n",
       "      <th>Public</th>\n",
       "      <th>Total</th>\n",
       "      <th>Public_Percent</th>\n",
       "    </tr>\n",
       "  </thead>\n",
       "  <tbody>\n",
       "    <tr>\n",
       "      <th>10</th>\n",
       "      <td>Gujarat</td>\n",
       "      <td>379379.0</td>\n",
       "      <td>94845.0</td>\n",
       "      <td>474224.0</td>\n",
       "      <td>20.000042</td>\n",
       "    </tr>\n",
       "  </tbody>\n",
       "</table>\n",
       "</div>"
      ],
      "text/plain": [
       "   State/UT   Private   Public     Total  Public_Percent\n",
       "10  Gujarat  379379.0  94845.0  474224.0       20.000042"
      ]
     },
     "execution_count": 27,
     "metadata": {},
     "output_type": "execute_result"
    }
   ],
   "source": [
    "hosp[hosp['State/UT']=='Gujarat']"
   ]
  },
  {
   "cell_type": "markdown",
   "id": "5a492968",
   "metadata": {},
   "source": [
    "Question 15: Are there any extreme values/ outliers present in this data set? Do these values impact the analysis?"
   ]
  },
  {
   "cell_type": "code",
   "execution_count": 28,
   "id": "dfebf2d5",
   "metadata": {},
   "outputs": [
    {
     "data": {
      "image/png": "[encoded data removed]",
      "text/plain": [
       "<Figure size 1200x700 with 4 Axes>"
      ]
     },
     "metadata": {},
     "output_type": "display_data"
    }
   ],
   "source": [
    "data_plot=hosp_copy[hosp_copy.dtypes[hosp_copy.dtypes!='object'].index]\n",
    "fig=plt.figure(figsize=(12,7))\n",
    "for i in range(0,len(data_plot.columns)):\n",
    "   ax=fig.add_subplot(2,2,i+1)\n",
    "   sns.boxplot(data_plot[data_plot.columns[i]])\n",
    "   ax.set_title(data_plot.columns[i],color='Blue')\n",
    "plt.tight_layout()"
   ]
  },
  {
   "cell_type": "code",
   "execution_count": 29,
   "id": "14b6622d",
   "metadata": {},
   "outputs": [
    {
     "data": {
      "text/html": [
       "<div>\n",
       "<style scoped>\n",
       "    .dataframe tbody tr th:only-of-type {\n",
       "        vertical-align: middle;\n",
       "    }\n",
       "\n",
       "    .dataframe tbody tr th {\n",
       "        vertical-align: top;\n",
       "    }\n",
       "\n",
       "    .dataframe thead th {\n",
       "        text-align: right;\n",
       "    }\n",
       "</style>\n",
       "<table border=\"1\" class=\"dataframe\">\n",
       "  <thead>\n",
       "    <tr style=\"text-align: right;\">\n",
       "      <th></th>\n",
       "      <th>Private</th>\n",
       "      <th>Public</th>\n",
       "      <th>Total</th>\n",
       "      <th>Public_Percent</th>\n",
       "    </tr>\n",
       "  </thead>\n",
       "  <tbody>\n",
       "    <tr>\n",
       "      <th>count</th>\n",
       "      <td>29.000000</td>\n",
       "      <td>29.000000</td>\n",
       "      <td>29.000000</td>\n",
       "      <td>29.000000</td>\n",
       "    </tr>\n",
       "    <tr>\n",
       "      <th>mean</th>\n",
       "      <td>58521.275862</td>\n",
       "      <td>42696.413793</td>\n",
       "      <td>101217.689655</td>\n",
       "      <td>59.063860</td>\n",
       "    </tr>\n",
       "    <tr>\n",
       "      <th>std</th>\n",
       "      <td>104692.326879</td>\n",
       "      <td>78095.331456</td>\n",
       "      <td>158445.699356</td>\n",
       "      <td>27.642119</td>\n",
       "    </tr>\n",
       "    <tr>\n",
       "      <th>min</th>\n",
       "      <td>1.000000</td>\n",
       "      <td>21.000000</td>\n",
       "      <td>22.000000</td>\n",
       "      <td>13.331933</td>\n",
       "    </tr>\n",
       "    <tr>\n",
       "      <th>25%</th>\n",
       "      <td>725.000000</td>\n",
       "      <td>3343.000000</td>\n",
       "      <td>4327.000000</td>\n",
       "      <td>30.999093</td>\n",
       "    </tr>\n",
       "    <tr>\n",
       "      <th>50%</th>\n",
       "      <td>11747.000000</td>\n",
       "      <td>16461.000000</td>\n",
       "      <td>18621.000000</td>\n",
       "      <td>65.088074</td>\n",
       "    </tr>\n",
       "    <tr>\n",
       "      <th>75%</th>\n",
       "      <td>89987.000000</td>\n",
       "      <td>34385.000000</td>\n",
       "      <td>132248.000000</td>\n",
       "      <td>77.259071</td>\n",
       "    </tr>\n",
       "    <tr>\n",
       "      <th>max</th>\n",
       "      <td>411814.000000</td>\n",
       "      <td>391079.000000</td>\n",
       "      <td>553937.000000</td>\n",
       "      <td>99.464030</td>\n",
       "    </tr>\n",
       "  </tbody>\n",
       "</table>\n",
       "</div>"
      ],
      "text/plain": [
       "             Private         Public          Total  Public_Percent\n",
       "count      29.000000      29.000000      29.000000       29.000000\n",
       "mean    58521.275862   42696.413793  101217.689655       59.063860\n",
       "std    104692.326879   78095.331456  158445.699356       27.642119\n",
       "min         1.000000      21.000000      22.000000       13.331933\n",
       "25%       725.000000    3343.000000    4327.000000       30.999093\n",
       "50%     11747.000000   16461.000000   18621.000000       65.088074\n",
       "75%     89987.000000   34385.000000  132248.000000       77.259071\n",
       "max    411814.000000  391079.000000  553937.000000       99.464030"
      ]
     },
     "execution_count": 29,
     "metadata": {},
     "output_type": "execute_result"
    }
   ],
   "source": [
    "hosp_copy.describe()"
   ]
  },
  {
   "cell_type": "code",
   "execution_count": null,
   "id": "907e1ba9",
   "metadata": {},
   "outputs": [],
   "source": []
  }
 ],
 "metadata": {
  "kernelspec": {
   "display_name": "Python 3 (ipykernel)",
   "language": "python",
   "name": "python3"
  },
  "language_info": {
   "codemirror_mode": {
    "name": "ipython",
    "version": 3
   },
   "file_extension": ".py",
   "mimetype": "text/x-python",
   "name": "python",
   "nbconvert_exporter": "python",
   "pygments_lexer": "ipython3",
   "version": "3.11.5"
  }
 },
 "nbformat": 4,
 "nbformat_minor": 5
}
